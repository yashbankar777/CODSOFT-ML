{
 "cells": [
  {
   "cell_type": "code",
   "execution_count": 1,
   "metadata": {
    "_cell_guid": "b1076dfc-b9ad-4769-8c92-a6c4dae69d19",
    "_uuid": "8f2839f25d086af736a60e9eeb907d3b93b6e0e5",
    "execution": {
     "iopub.execute_input": "2020-08-24T17:07:47.932882Z",
     "iopub.status.busy": "2020-08-24T17:07:47.931746Z",
     "iopub.status.idle": "2020-08-24T17:07:47.941040Z",
     "shell.execute_reply": "2020-08-24T17:07:47.940082Z"
    },
    "papermill": {
     "duration": 0.030238,
     "end_time": "2020-08-24T17:07:47.941208",
     "exception": false,
     "start_time": "2020-08-24T17:07:47.910970",
     "status": "completed"
    },
    "scrolled": true,
    "tags": []
   },
   "outputs": [
    {
     "name": "stdout",
     "output_type": "stream",
     "text": [
      "/kaggle/input/sms-spam-collection-dataset/spam.csv\n"
     ]
    }
   ],
   "source": [
    "import numpy as np \n",
    "import pandas as pd \n",
    "\n",
    "\n",
    "import os\n",
    "for dirname, _, filenames in os.walk('/kaggle/input'):\n",
    "    for filename in filenames:\n",
    "        print(os.path.join(dirname, filename))\n"
   ]
  },
  {
   "cell_type": "code",
   "execution_count": 2,
   "metadata": {
    "_cell_guid": "79c7e3d0-c299-4dcb-8224-4455121ee9b0",
    "_uuid": "d629ff2d2480ee46fbb7e2d37f6b5fab8052498a",
    "execution": {
     "iopub.execute_input": "2020-08-24T17:07:47.972333Z",
     "iopub.status.busy": "2020-08-24T17:07:47.971331Z",
     "iopub.status.idle": "2020-08-24T17:07:48.008937Z",
     "shell.execute_reply": "2020-08-24T17:07:48.007759Z"
    },
    "papermill": {
     "duration": 0.055318,
     "end_time": "2020-08-24T17:07:48.009184",
     "exception": false,
     "start_time": "2020-08-24T17:07:47.953866",
     "status": "completed"
    },
    "tags": []
   },
   "outputs": [],
   "source": [
    "df = pd.read_csv('/kaggle/input/sms-spam-collection-dataset/spam.csv', encoding='latin-1')"
   ]
  },
  {
   "cell_type": "code",
   "execution_count": 3,
   "metadata": {
    "execution": {
     "iopub.execute_input": "2020-08-24T17:07:48.055380Z",
     "iopub.status.busy": "2020-08-24T17:07:48.050696Z",
     "iopub.status.idle": "2020-08-24T17:07:48.067647Z",
     "shell.execute_reply": "2020-08-24T17:07:48.066788Z"
    },
    "papermill": {
     "duration": 0.044985,
     "end_time": "2020-08-24T17:07:48.067791",
     "exception": false,
     "start_time": "2020-08-24T17:07:48.022806",
     "status": "completed"
    },
    "tags": []
   },
   "outputs": [
    {
     "data": {
      "text/html": [
       "<div>\n",
       "<style scoped>\n",
       "    .dataframe tbody tr th:only-of-type {\n",
       "        vertical-align: middle;\n",
       "    }\n",
       "\n",
       "    .dataframe tbody tr th {\n",
       "        vertical-align: top;\n",
       "    }\n",
       "\n",
       "    .dataframe thead th {\n",
       "        text-align: right;\n",
       "    }\n",
       "</style>\n",
       "<table border=\"1\" class=\"dataframe\">\n",
       "  <thead>\n",
       "    <tr style=\"text-align: right;\">\n",
       "      <th></th>\n",
       "      <th>v1</th>\n",
       "      <th>v2</th>\n",
       "      <th>Unnamed: 2</th>\n",
       "      <th>Unnamed: 3</th>\n",
       "      <th>Unnamed: 4</th>\n",
       "    </tr>\n",
       "  </thead>\n",
       "  <tbody>\n",
       "    <tr>\n",
       "      <th>0</th>\n",
       "      <td>ham</td>\n",
       "      <td>Go until jurong point, crazy.. Available only ...</td>\n",
       "      <td>NaN</td>\n",
       "      <td>NaN</td>\n",
       "      <td>NaN</td>\n",
       "    </tr>\n",
       "    <tr>\n",
       "      <th>1</th>\n",
       "      <td>ham</td>\n",
       "      <td>Ok lar... Joking wif u oni...</td>\n",
       "      <td>NaN</td>\n",
       "      <td>NaN</td>\n",
       "      <td>NaN</td>\n",
       "    </tr>\n",
       "    <tr>\n",
       "      <th>2</th>\n",
       "      <td>spam</td>\n",
       "      <td>Free entry in 2 a wkly comp to win FA Cup fina...</td>\n",
       "      <td>NaN</td>\n",
       "      <td>NaN</td>\n",
       "      <td>NaN</td>\n",
       "    </tr>\n",
       "    <tr>\n",
       "      <th>3</th>\n",
       "      <td>ham</td>\n",
       "      <td>U dun say so early hor... U c already then say...</td>\n",
       "      <td>NaN</td>\n",
       "      <td>NaN</td>\n",
       "      <td>NaN</td>\n",
       "    </tr>\n",
       "    <tr>\n",
       "      <th>4</th>\n",
       "      <td>ham</td>\n",
       "      <td>Nah I don't think he goes to usf, he lives aro...</td>\n",
       "      <td>NaN</td>\n",
       "      <td>NaN</td>\n",
       "      <td>NaN</td>\n",
       "    </tr>\n",
       "  </tbody>\n",
       "</table>\n",
       "</div>"
      ],
      "text/plain": [
       "     v1                                                 v2 Unnamed: 2  \\\n",
       "0   ham  Go until jurong point, crazy.. Available only ...        NaN   \n",
       "1   ham                      Ok lar... Joking wif u oni...        NaN   \n",
       "2  spam  Free entry in 2 a wkly comp to win FA Cup fina...        NaN   \n",
       "3   ham  U dun say so early hor... U c already then say...        NaN   \n",
       "4   ham  Nah I don't think he goes to usf, he lives aro...        NaN   \n",
       "\n",
       "  Unnamed: 3 Unnamed: 4  \n",
       "0        NaN        NaN  \n",
       "1        NaN        NaN  \n",
       "2        NaN        NaN  \n",
       "3        NaN        NaN  \n",
       "4        NaN        NaN  "
      ]
     },
     "execution_count": 3,
     "metadata": {},
     "output_type": "execute_result"
    }
   ],
   "source": [
    "df.head()"
   ]
  },
  {
   "cell_type": "code",
   "execution_count": 4,
   "metadata": {
    "execution": {
     "iopub.execute_input": "2020-08-24T17:07:48.106421Z",
     "iopub.status.busy": "2020-08-24T17:07:48.104991Z",
     "iopub.status.idle": "2020-08-24T17:07:48.109785Z",
     "shell.execute_reply": "2020-08-24T17:07:48.110363Z"
    },
    "papermill": {
     "duration": 0.029298,
     "end_time": "2020-08-24T17:07:48.110566",
     "exception": false,
     "start_time": "2020-08-24T17:07:48.081268",
     "status": "completed"
    },
    "tags": []
   },
   "outputs": [
    {
     "data": {
      "text/html": [
       "<div>\n",
       "<style scoped>\n",
       "    .dataframe tbody tr th:only-of-type {\n",
       "        vertical-align: middle;\n",
       "    }\n",
       "\n",
       "    .dataframe tbody tr th {\n",
       "        vertical-align: top;\n",
       "    }\n",
       "\n",
       "    .dataframe thead th {\n",
       "        text-align: right;\n",
       "    }\n",
       "</style>\n",
       "<table border=\"1\" class=\"dataframe\">\n",
       "  <thead>\n",
       "    <tr style=\"text-align: right;\">\n",
       "      <th></th>\n",
       "      <th>v1</th>\n",
       "      <th>v2</th>\n",
       "    </tr>\n",
       "  </thead>\n",
       "  <tbody>\n",
       "    <tr>\n",
       "      <th>0</th>\n",
       "      <td>ham</td>\n",
       "      <td>Go until jurong point, crazy.. Available only ...</td>\n",
       "    </tr>\n",
       "    <tr>\n",
       "      <th>1</th>\n",
       "      <td>ham</td>\n",
       "      <td>Ok lar... Joking wif u oni...</td>\n",
       "    </tr>\n",
       "    <tr>\n",
       "      <th>2</th>\n",
       "      <td>spam</td>\n",
       "      <td>Free entry in 2 a wkly comp to win FA Cup fina...</td>\n",
       "    </tr>\n",
       "    <tr>\n",
       "      <th>3</th>\n",
       "      <td>ham</td>\n",
       "      <td>U dun say so early hor... U c already then say...</td>\n",
       "    </tr>\n",
       "    <tr>\n",
       "      <th>4</th>\n",
       "      <td>ham</td>\n",
       "      <td>Nah I don't think he goes to usf, he lives aro...</td>\n",
       "    </tr>\n",
       "  </tbody>\n",
       "</table>\n",
       "</div>"
      ],
      "text/plain": [
       "     v1                                                 v2\n",
       "0   ham  Go until jurong point, crazy.. Available only ...\n",
       "1   ham                      Ok lar... Joking wif u oni...\n",
       "2  spam  Free entry in 2 a wkly comp to win FA Cup fina...\n",
       "3   ham  U dun say so early hor... U c already then say...\n",
       "4   ham  Nah I don't think he goes to usf, he lives aro..."
      ]
     },
     "execution_count": 4,
     "metadata": {},
     "output_type": "execute_result"
    }
   ],
   "source": [
    "df = df.iloc[:,:2]\n",
    "df.head()"
   ]
  },
  {
   "cell_type": "code",
   "execution_count": 5,
   "metadata": {
    "execution": {
     "iopub.execute_input": "2020-08-24T17:07:48.145348Z",
     "iopub.status.busy": "2020-08-24T17:07:48.144599Z",
     "iopub.status.idle": "2020-08-24T17:07:48.148673Z",
     "shell.execute_reply": "2020-08-24T17:07:48.147886Z"
    },
    "papermill": {
     "duration": 0.024789,
     "end_time": "2020-08-24T17:07:48.148827",
     "exception": false,
     "start_time": "2020-08-24T17:07:48.124038",
     "status": "completed"
    },
    "tags": []
   },
   "outputs": [],
   "source": [
    "df.columns = ['label','text']"
   ]
  },
  {
   "cell_type": "code",
   "execution_count": 6,
   "metadata": {
    "execution": {
     "iopub.execute_input": "2020-08-24T17:07:48.187821Z",
     "iopub.status.busy": "2020-08-24T17:07:48.186644Z",
     "iopub.status.idle": "2020-08-24T17:07:48.191294Z",
     "shell.execute_reply": "2020-08-24T17:07:48.190544Z"
    },
    "papermill": {
     "duration": 0.028753,
     "end_time": "2020-08-24T17:07:48.191425",
     "exception": false,
     "start_time": "2020-08-24T17:07:48.162672",
     "status": "completed"
    },
    "tags": []
   },
   "outputs": [
    {
     "data": {
      "text/plain": [
       "ham     4825\n",
       "spam     747\n",
       "Name: label, dtype: int64"
      ]
     },
     "execution_count": 6,
     "metadata": {},
     "output_type": "execute_result"
    }
   ],
   "source": [
    "df['label'].value_counts()"
   ]
  },
  {
   "cell_type": "markdown",
   "metadata": {
    "papermill": {
     "duration": 0.013769,
     "end_time": "2020-08-24T17:07:48.219755",
     "exception": false,
     "start_time": "2020-08-24T17:07:48.205986",
     "status": "completed"
    },
    "tags": []
   },
   "source": [
    "### Data Exploratin"
   ]
  },
  {
   "cell_type": "code",
   "execution_count": 7,
   "metadata": {
    "execution": {
     "iopub.execute_input": "2020-08-24T17:07:48.258076Z",
     "iopub.status.busy": "2020-08-24T17:07:48.257181Z",
     "iopub.status.idle": "2020-08-24T17:07:49.704822Z",
     "shell.execute_reply": "2020-08-24T17:07:49.704135Z"
    },
    "papermill": {
     "duration": 1.471099,
     "end_time": "2020-08-24T17:07:49.704977",
     "exception": false,
     "start_time": "2020-08-24T17:07:48.233878",
     "status": "completed"
    },
    "tags": []
   },
   "outputs": [
    {
     "data": {
      "text/plain": [
       "Text(0, 0.5, 'Count')"
      ]
     },
     "execution_count": 7,
     "metadata": {},
     "output_type": "execute_result"
    },
    {
     "data": {
      "image/png": "[encoded data removed]",
      "text/plain": [
       "<Figure size 432x432 with 1 Axes>"
      ]
     },
     "metadata": {
      "needs_background": "light"
     },
     "output_type": "display_data"
    }
   ],
   "source": [
    "import matplotlib.pyplot as plt\n",
    "import seaborn as sns\n",
    "\n",
    "fig, ax = plt.subplots(figsize = (6,6))\n",
    "\n",
    "s = df['label'].value_counts()\n",
    "sns.barplot(x=s.index, y=s.values,\n",
    "           palette=['#2AD907','#FA0101'])\n",
    "plt.title('Data Distribution')\n",
    "ax.set_ylabel(\"Count\")"
   ]
  },
  {
   "cell_type": "code",
   "execution_count": 8,
   "metadata": {
    "execution": {
     "iopub.execute_input": "2020-08-24T17:07:49.744204Z",
     "iopub.status.busy": "2020-08-24T17:07:49.743295Z",
     "iopub.status.idle": "2020-08-24T17:07:49.835729Z",
     "shell.execute_reply": "2020-08-24T17:07:49.836314Z"
    },
    "papermill": {
     "duration": 0.116786,
     "end_time": "2020-08-24T17:07:49.836520",
     "exception": false,
     "start_time": "2020-08-24T17:07:49.719734",
     "status": "completed"
    },
    "tags": []
   },
   "outputs": [
    {
     "data": {
      "text/plain": [
       "<matplotlib.legend.Legend at 0x7f30ab61f4d0>"
      ]
     },
     "execution_count": 8,
     "metadata": {},
     "output_type": "execute_result"
    },
    {
     "data": {
      "image/png": "[encoded data removed]",
      "text/plain": [
       "<Figure size 432x288 with 1 Axes>"
      ]
     },
     "metadata": {},
     "output_type": "display_data"
    }
   ],
   "source": [
    "fig, ax = plt.subplots()\n",
    "labels = ['ham', \n",
    "         'spam']\n",
    "percentages = [s.values]\n",
    "explode=(0.1,0)\n",
    "ax.pie(s.values, explode=explode, labels=labels,  \n",
    "       colors=['#2AD907','#FA0101'], autopct='%1.0f%%', \n",
    "       shadow=False, startangle=0,   \n",
    "       pctdistance=1.2,labeldistance=1.4)\n",
    "ax.axis('equal')\n",
    "ax.set_title(\"Data Label Distribution\")\n",
    "ax.legend(frameon=False, bbox_to_anchor=(1.5,0.8))"
   ]
  },
  {
   "cell_type": "code",
   "execution_count": 9,
   "metadata": {
    "execution": {
     "iopub.execute_input": "2020-08-24T17:07:49.874013Z",
     "iopub.status.busy": "2020-08-24T17:07:49.873164Z",
     "iopub.status.idle": "2020-08-24T17:07:51.142909Z",
     "shell.execute_reply": "2020-08-24T17:07:51.141889Z"
    },
    "papermill": {
     "duration": 1.291551,
     "end_time": "2020-08-24T17:07:51.143105",
     "exception": false,
     "start_time": "2020-08-24T17:07:49.851554",
     "status": "completed"
    },
    "tags": []
   },
   "outputs": [
    {
     "name": "stdout",
     "output_type": "stream",
     "text": [
      "[nltk_data] Downloading package stopwords to /usr/share/nltk_data...\n",
      "[nltk_data]   Package stopwords is already up-to-date!\n"
     ]
    }
   ],
   "source": [
    "import re\n",
    "import nltk\n",
    "nltk.download('stopwords')\n",
    "\n",
    "from nltk.corpus import stopwords\n",
    "from nltk.stem.porter import PorterStemmer\n",
    "ps = PorterStemmer()"
   ]
  },
  {
   "cell_type": "code",
   "execution_count": 10,
   "metadata": {
    "execution": {
     "iopub.execute_input": "2020-08-24T17:07:51.206092Z",
     "iopub.status.busy": "2020-08-24T17:07:51.204965Z",
     "iopub.status.idle": "2020-08-24T17:07:51.211212Z",
     "shell.execute_reply": "2020-08-24T17:07:51.210557Z"
    },
    "papermill": {
     "duration": 0.04466,
     "end_time": "2020-08-24T17:07:51.211366",
     "exception": false,
     "start_time": "2020-08-24T17:07:51.166706",
     "status": "completed"
    },
    "tags": []
   },
   "outputs": [],
   "source": [
    "corpus = []"
   ]
  },
  {
   "cell_type": "code",
   "execution_count": 11,
   "metadata": {
    "execution": {
     "iopub.execute_input": "2020-08-24T17:07:51.263814Z",
     "iopub.status.busy": "2020-08-24T17:07:51.262309Z",
     "iopub.status.idle": "2020-08-24T17:08:07.364235Z",
     "shell.execute_reply": "2020-08-24T17:08:07.363343Z"
    },
    "papermill": {
     "duration": 16.135305,
     "end_time": "2020-08-24T17:08:07.364382",
     "exception": false,
     "start_time": "2020-08-24T17:07:51.229077",
     "status": "completed"
    },
    "tags": []
   },
   "outputs": [],
   "source": [
    "for i in range(0, len(df)):\n",
    "    review = re.sub('[^a-zA-Z]', ' ', df['text'][i])\n",
    "    review = review.lower()\n",
    "    review = review.split()\n",
    "    \n",
    "    review = [ps.stem(word) for word in review if not word in stopwords.words('english')]\n",
    "    review = ' '.join(review)\n",
    "    corpus.append(review)"
   ]
  },
  {
   "cell_type": "code",
   "execution_count": 12,
   "metadata": {
    "execution": {
     "iopub.execute_input": "2020-08-24T17:08:07.408784Z",
     "iopub.status.busy": "2020-08-24T17:08:07.407650Z",
     "iopub.status.idle": "2020-08-24T17:08:07.420598Z",
     "shell.execute_reply": "2020-08-24T17:08:07.421423Z"
    },
    "papermill": {
     "duration": 0.041675,
     "end_time": "2020-08-24T17:08:07.421626",
     "exception": false,
     "start_time": "2020-08-24T17:08:07.379951",
     "status": "completed"
    },
    "tags": []
   },
   "outputs": [
    {
     "name": "stdout",
     "output_type": "stream",
     "text": [
      "Text:  I'm gonna be home soon and i don't want to talk about this stuff anymore tonight, k? I've cried enough today.\n",
      "Alphabet Only:  I m gonna be home soon and i don t want to talk about this stuff anymore tonight  k  I ve cried enough today  \n",
      "\n",
      "lower:  i m gonna be home soon and i don t want to talk about this stuff anymore tonight  k  i ve cried enough today  \n",
      "\n",
      "Split:  ['i', 'm', 'gonna', 'be', 'home', 'soon', 'and', 'i', 'don', 't', 'want', 'to', 'talk', 'about', 'this', 'stuff', 'anymore', 'tonight', 'k', 'i', 've', 'cried', 'enough', 'today'] \n",
      "\n",
      "Stem:  ['gonna', 'home', 'soon', 'want', 'talk', 'stuff', 'anymor', 'tonight', 'k', 'cri', 'enough', 'today'] \n",
      "\n",
      "Join:  gonna home soon want talk stuff anymor tonight k cri enough today \n",
      "\n"
     ]
    }
   ],
   "source": [
    "i = 10 \n",
    "print(\"Text: \",df['text'][i])\n",
    "review = re.sub('[^a-zA-Z]', ' ', df['text'][i])\n",
    "print(\"Alphabet Only: \",review,'\\n')\n",
    "review = review.lower()\n",
    "print(\"lower: \",review,'\\n')\n",
    "review = review.split()\n",
    "print(\"Split: \",review,'\\n')\n",
    "review = [ps.stem(word) for word in review if not word in stopwords.words('english')]\n",
    "print(\"Stem: \",review,'\\n')\n",
    "review = ' '.join(review)\n",
    "print(\"Join: \",review,'\\n')"
   ]
  },
  {
   "cell_type": "markdown",
   "metadata": {
    "papermill": {
     "duration": 0.015456,
     "end_time": "2020-08-24T17:08:07.453349",
     "exception": false,
     "start_time": "2020-08-24T17:08:07.437893",
     "status": "completed"
    },
    "tags": []
   },
   "source": [
    "* ###  Count Vectorizer "
   ]
  },
  {
   "cell_type": "code",
   "execution_count": 13,
   "metadata": {
    "execution": {
     "iopub.execute_input": "2020-08-24T17:08:07.498609Z",
     "iopub.status.busy": "2020-08-24T17:08:07.493201Z",
     "iopub.status.idle": "2020-08-24T17:08:07.664445Z",
     "shell.execute_reply": "2020-08-24T17:08:07.663695Z"
    },
    "papermill": {
     "duration": 0.195663,
     "end_time": "2020-08-24T17:08:07.664607",
     "exception": false,
     "start_time": "2020-08-24T17:08:07.468944",
     "status": "completed"
    },
    "tags": []
   },
   "outputs": [],
   "source": [
    "\n",
    "from sklearn.feature_extraction.text import CountVectorizer\n",
    "cv = CountVectorizer(max_features=2500)\n",
    "X = cv.fit_transform(corpus).toarray()"
   ]
  },
  {
   "cell_type": "code",
   "execution_count": 14,
   "metadata": {
    "execution": {
     "iopub.execute_input": "2020-08-24T17:08:07.707981Z",
     "iopub.status.busy": "2020-08-24T17:08:07.706793Z",
     "iopub.status.idle": "2020-08-24T17:08:07.711985Z",
     "shell.execute_reply": "2020-08-24T17:08:07.711310Z"
    },
    "papermill": {
     "duration": 0.031939,
     "end_time": "2020-08-24T17:08:07.712123",
     "exception": false,
     "start_time": "2020-08-24T17:08:07.680184",
     "status": "completed"
    },
    "tags": []
   },
   "outputs": [
    {
     "data": {
      "text/plain": [
       "array([0, 1])"
      ]
     },
     "execution_count": 14,
     "metadata": {},
     "output_type": "execute_result"
    }
   ],
   "source": [
    "from sklearn import preprocessing \n",
    "label_encoder = preprocessing.LabelEncoder() \n",
    "df['label']= label_encoder.fit_transform(df['label']) \n",
    "df['label'].unique() "
   ]
  },
  {
   "cell_type": "code",
   "execution_count": 15,
   "metadata": {
    "execution": {
     "iopub.execute_input": "2020-08-24T17:08:07.749568Z",
     "iopub.status.busy": "2020-08-24T17:08:07.748742Z",
     "iopub.status.idle": "2020-08-24T17:08:07.752572Z",
     "shell.execute_reply": "2020-08-24T17:08:07.751830Z"
    },
    "papermill": {
     "duration": 0.024936,
     "end_time": "2020-08-24T17:08:07.752731",
     "exception": false,
     "start_time": "2020-08-24T17:08:07.727795",
     "status": "completed"
    },
    "tags": []
   },
   "outputs": [],
   "source": [
    "y = df['label']"
   ]
  },
  {
   "cell_type": "code",
   "execution_count": 16,
   "metadata": {
    "execution": {
     "iopub.execute_input": "2020-08-24T17:08:07.791458Z",
     "iopub.status.busy": "2020-08-24T17:08:07.790609Z",
     "iopub.status.idle": "2020-08-24T17:08:07.911616Z",
     "shell.execute_reply": "2020-08-24T17:08:07.910890Z"
    },
    "papermill": {
     "duration": 0.143276,
     "end_time": "2020-08-24T17:08:07.911785",
     "exception": false,
     "start_time": "2020-08-24T17:08:07.768509",
     "status": "completed"
    },
    "tags": []
   },
   "outputs": [],
   "source": [
    "from sklearn.model_selection import train_test_split\n",
    "X_train, X_test, y_train, y_test = train_test_split(X, y, test_size = 0.20, random_state = 0)"
   ]
  },
  {
   "cell_type": "code",
   "execution_count": 17,
   "metadata": {
    "execution": {
     "iopub.execute_input": "2020-08-24T17:08:07.950661Z",
     "iopub.status.busy": "2020-08-24T17:08:07.949779Z",
     "iopub.status.idle": "2020-08-24T17:08:08.205223Z",
     "shell.execute_reply": "2020-08-24T17:08:08.204260Z"
    },
    "papermill": {
     "duration": 0.277632,
     "end_time": "2020-08-24T17:08:08.205379",
     "exception": false,
     "start_time": "2020-08-24T17:08:07.927747",
     "status": "completed"
    },
    "tags": []
   },
   "outputs": [],
   "source": [
    "from sklearn.naive_bayes import MultinomialNB\n",
    "spam_detect_model = MultinomialNB().fit(X_train, y_train)\n",
    "y_pred = spam_detect_model.predict(X_test)"
   ]
  },
  {
   "cell_type": "code",
   "execution_count": 18,
   "metadata": {
    "execution": {
     "iopub.execute_input": "2020-08-24T17:08:08.245203Z",
     "iopub.status.busy": "2020-08-24T17:08:08.244108Z",
     "iopub.status.idle": "2020-08-24T17:08:08.251084Z",
     "shell.execute_reply": "2020-08-24T17:08:08.251744Z"
    },
    "papermill": {
     "duration": 0.030404,
     "end_time": "2020-08-24T17:08:08.251937",
     "exception": false,
     "start_time": "2020-08-24T17:08:08.221533",
     "status": "completed"
    },
    "tags": []
   },
   "outputs": [
    {
     "data": {
      "text/plain": [
       "0.9865470852017937"
      ]
     },
     "execution_count": 18,
     "metadata": {},
     "output_type": "execute_result"
    }
   ],
   "source": [
    "from sklearn.metrics import accuracy_score\n",
    "accuracy_score(y_test, y_pred)"
   ]
  },
  {
   "cell_type": "markdown",
   "metadata": {
    "papermill": {
     "duration": 0.01608,
     "end_time": "2020-08-24T17:08:08.290610",
     "exception": false,
     "start_time": "2020-08-24T17:08:08.274530",
     "status": "completed"
    },
    "tags": []
   },
   "source": [
    "* ### Tfidf"
   ]
  },
  {
   "cell_type": "code",
   "execution_count": 19,
   "metadata": {
    "execution": {
     "iopub.execute_input": "2020-08-24T17:08:08.342738Z",
     "iopub.status.busy": "2020-08-24T17:08:08.332368Z",
     "iopub.status.idle": "2020-08-24T17:08:08.557265Z",
     "shell.execute_reply": "2020-08-24T17:08:08.556364Z"
    },
    "papermill": {
     "duration": 0.250669,
     "end_time": "2020-08-24T17:08:08.557413",
     "exception": false,
     "start_time": "2020-08-24T17:08:08.306744",
     "status": "completed"
    },
    "tags": []
   },
   "outputs": [],
   "source": [
    "from sklearn.feature_extraction.text import TfidfVectorizer\n",
    "cv = TfidfVectorizer(max_features=2500)\n",
    "X = cv.fit_transform(corpus).toarray()"
   ]
  },
  {
   "cell_type": "code",
   "execution_count": 20,
   "metadata": {
    "execution": {
     "iopub.execute_input": "2020-08-24T17:08:08.600489Z",
     "iopub.status.busy": "2020-08-24T17:08:08.598935Z",
     "iopub.status.idle": "2020-08-24T17:08:08.691562Z",
     "shell.execute_reply": "2020-08-24T17:08:08.690686Z"
    },
    "papermill": {
     "duration": 0.117059,
     "end_time": "2020-08-24T17:08:08.691707",
     "exception": false,
     "start_time": "2020-08-24T17:08:08.574648",
     "status": "completed"
    },
    "tags": []
   },
   "outputs": [],
   "source": [
    "from sklearn.model_selection import train_test_split\n",
    "X_train, X_test, y_train, y_test = train_test_split(X, y, test_size = 0.20, random_state = 0)"
   ]
  },
  {
   "cell_type": "code",
   "execution_count": 21,
   "metadata": {
    "execution": {
     "iopub.execute_input": "2020-08-24T17:08:08.730638Z",
     "iopub.status.busy": "2020-08-24T17:08:08.729754Z",
     "iopub.status.idle": "2020-08-24T17:08:08.771772Z",
     "shell.execute_reply": "2020-08-24T17:08:08.770941Z"
    },
    "papermill": {
     "duration": 0.064125,
     "end_time": "2020-08-24T17:08:08.771938",
     "exception": false,
     "start_time": "2020-08-24T17:08:08.707813",
     "status": "completed"
    },
    "tags": []
   },
   "outputs": [],
   "source": [
    "from sklearn.naive_bayes import MultinomialNB\n",
    "tfidf_model = MultinomialNB().fit(X_train, y_train)\n",
    "y_pred = tfidf_model.predict(X_test)"
   ]
  },
  {
   "cell_type": "code",
   "execution_count": 22,
   "metadata": {
    "execution": {
     "iopub.execute_input": "2020-08-24T17:08:08.815142Z",
     "iopub.status.busy": "2020-08-24T17:08:08.813921Z",
     "iopub.status.idle": "2020-08-24T17:08:08.819518Z",
     "shell.execute_reply": "2020-08-24T17:08:08.820112Z"
    },
    "papermill": {
     "duration": 0.028593,
     "end_time": "2020-08-24T17:08:08.820291",
     "exception": false,
     "start_time": "2020-08-24T17:08:08.791698",
     "status": "completed"
    },
    "tags": []
   },
   "outputs": [
    {
     "data": {
      "text/plain": [
       "0.9721973094170404"
      ]
     },
     "execution_count": 22,
     "metadata": {},
     "output_type": "execute_result"
    }
   ],
   "source": [
    "from sklearn.metrics import accuracy_score\n",
    "accuracy_score(y_test, y_pred)"
   ]
  },
  {
   "cell_type": "code",
   "execution_count": null,
   "metadata": {
    "papermill": {
     "duration": 0.015967,
     "end_time": "2020-08-24T17:08:08.852396",
     "exception": false,
     "start_time": "2020-08-24T17:08:08.836429",
     "status": "completed"
    },
    "tags": []
   },
   "outputs": [],
   "source": []
  }
 ],
 "metadata": {
  "kernelspec": {
   "display_name": "Python 3 (ipykernel)",
   "language": "python",
   "name": "python3"
  },
  "language_info": {
   "codemirror_mode": {
    "name": "ipython",
    "version": 3
   },
   "file_extension": ".py",
   "mimetype": "text/x-python",
   "name": "python",
   "nbconvert_exporter": "python",
   "pygments_lexer": "ipython3",
   "version": "3.11.5"
  },
  "papermill": {
   "duration": 26.631353,
   "end_time": "2020-08-24T17:08:08.977790",
   "environment_variables": {},
   "exception": null,
   "input_path": "__notebook__.ipynb",
   "output_path": "__notebook__.ipynb",
   "parameters": {},
   "start_time": "2020-08-24T17:07:42.346437",
   "version": "2.1.0"
  }
 },
 "nbformat": 4,
 "nbformat_minor": 4
}
